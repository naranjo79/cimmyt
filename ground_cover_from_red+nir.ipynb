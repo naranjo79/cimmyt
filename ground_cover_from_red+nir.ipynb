{
 "cells": [
  {
   "cell_type": "code",
   "execution_count": null,
   "metadata": {
    "scrolled": false
   },
   "outputs": [],
   "source": [
    "# import relevant modules\n",
    "import numpy as np\n",
    "import gdal\n",
    "import os\n",
    "import matplotlib.pyplot as plt\n",
    "from scipy import stats\n",
    "%matplotlib inline"
   ]
  },
  {
   "cell_type": "code",
   "execution_count": null,
   "metadata": {
    "scrolled": false
   },
   "outputs": [],
   "source": [
    "# Assign working directory (from/to where the images will be read/write)\n",
    "os.chdir('C:/Users/SNMACIAS/Documents/CIMMYT/COMPASS/B2212/')"
   ]
  },
  {
   "cell_type": "code",
   "execution_count": null,
   "metadata": {
    "scrolled": false
   },
   "outputs": [],
   "source": [
    "# Set figure size (scattered plot)\n",
    "#fig_size = \n",
    "plt.rcParams['figure.figsize'] = (7, 7)"
   ]
  },
  {
   "cell_type": "markdown",
   "metadata": {},
   "source": [
    "### A. Import and open image"
   ]
  },
  {
   "cell_type": "code",
   "execution_count": null,
   "metadata": {
    "scrolled": false
   },
   "outputs": [],
   "source": [
    "# Cut to shapefile\n",
    "img_in = 'C:/Users/SNMACIAS/Documents/CIMMYT/Drone_missions/eBee/TOL/q190912dur/output/q190912dur_transparent_reflectance_all.tif'      # Input file\n",
    "img_clp = 'test_clip_.tif'                               # Output clipped file\n",
    "gdal.Warp(img_clp, img_in, dstNodata = -10000, \\\n",
    "          cutlineDSName = 'C:/Users/SNMACIAS/Documents/CIMMYT/Drone_missions/eBee/TOL/q190912dur/analysis/test_clip.shp', \\\n",
    "          cropToCutline = True)"
   ]
  },
  {
   "cell_type": "code",
   "execution_count": null,
   "metadata": {
    "scrolled": true
   },
   "outputs": [],
   "source": [
    "img_clp = 'e190328co1rfl.tif'"
   ]
  },
  {
   "cell_type": "code",
   "execution_count": null,
   "metadata": {
    "scrolled": true
   },
   "outputs": [],
   "source": [
    "# Use entire mosaic\n",
    "img_clp = 'C:/Users/SNMACIAS/Documents/CIMMYT/Drone_missions/eBee/TOL/q190912dur/output/q190912dur_transparent_reflectance_all.tif'"
   ]
  },
  {
   "cell_type": "code",
   "execution_count": null,
   "metadata": {
    "scrolled": false
   },
   "outputs": [],
   "source": [
    "# Open the file\n",
    "fid=gdal.Open(img_clp, gdal.GA_ReadOnly)\n",
    "rows=fid.RasterYSize\n",
    "cols=fid.RasterXSize\n",
    "\n",
    "# Read relevant bands (R and NIR) and store them as arrays\n",
    "R=fid.GetRasterBand(3).ReadAsArray()\n",
    "NIR=fid.GetRasterBand(5).ReadAsArray()\n",
    "del fid"
   ]
  },
  {
   "cell_type": "code",
   "execution_count": null,
   "metadata": {
    "scrolled": true
   },
   "outputs": [],
   "source": [
    "R.shape, NIR.shape"
   ]
  },
  {
   "cell_type": "markdown",
   "metadata": {},
   "source": [
    "### B. Level 1 image processing: Deal with homogeneization of bands"
   ]
  },
  {
   "cell_type": "code",
   "execution_count": null,
   "metadata": {
    "scrolled": false
   },
   "outputs": [],
   "source": [
    "# Assign nan\n",
    "mask1 = R != -3.3999999521443642e+38                 # Boolean: nodata false, else true\n",
    "R_a = R*mask1                                        # float and 0's\n",
    "R_a[R*mask1 == 0] = np.nan                           # float and nan\n",
    "\n",
    "mask2 =  NIR != -3.3999999521443642e+38              # Boolean: nodata false, else true\n",
    "NIR_a = NIR*mask2                                    # float and 0's\n",
    "NIR_a[NIR*mask2 == 0] = np.nan                       # floar and nan\n",
    "\n",
    "# Eliminate where either in R or NIR there is nan\n",
    "mask3 = np.where(np.isnan(NIR_a+R_a), True, False)\n",
    "\n",
    "# Test whether R and NIR have same shape to be able to plot\n",
    "NIR_a[mask3].shape, R_a[mask3].shape"
   ]
  },
  {
   "cell_type": "code",
   "execution_count": null,
   "metadata": {
    "scrolled": true
   },
   "outputs": [],
   "source": [
    "# Define soil line\n",
    "x1, y1 = np.nanquantile(R_a, 0.9995), np.nanquantile(NIR_a, 0.075)       # Bare bright soil (upper right)\n",
    "x0, y0 = np.nanquantile(R_a, 0.85), np.nanquantile(NIR_a, 0.00005)     # Bare dark soil (lower left)\n",
    "\n",
    "m = (y1 - y0)/(x1 - x0)               # Set slope of soil line\n",
    "c = (-x0/(x1-x0))*(y1-y0)+y0          # Set intercept of soil line\n",
    "\n",
    "# Define full canopy cover\n",
    "x2, y2 = 0.00862942699342966, 0.658362090587616 # np.nanquantile(R_a, 0.005), np.nanquantile(NIR_a, 0.995) \n",
    "\n",
    "x2, y2, x1, y1, x0, y0, m, c"
   ]
  },
  {
   "cell_type": "code",
   "execution_count": null,
   "metadata": {
    "scrolled": false
   },
   "outputs": [],
   "source": [
    "# Scatter plot\n",
    "plt.scatter([x0, x1, x2], [y0, y1, y2], s=100, c='black')      # These are the points defining soil line and full canopy pixel\n",
    "plt.scatter(R_a, NIR_a, c='blue', alpha=0.01)                  # These are the pairs of Red and NIR\n",
    "\n",
    "plt.legend(loc=0)\n",
    "plt.xlabel('Red [reflectance]')\n",
    "plt.ylabel('NIR [reflectance]')\n",
    "#plt.xlim([0,0.3])\n",
    "#plt.ylim([0,0.8])"
   ]
  },
  {
   "cell_type": "code",
   "execution_count": null,
   "metadata": {},
   "outputs": [],
   "source": []
  },
  {
   "cell_type": "markdown",
   "metadata": {},
   "source": [
    "### C. Define PVI for the one pixel and for all pixels"
   ]
  },
  {
   "cell_type": "code",
   "execution_count": null,
   "metadata": {
    "scrolled": false
   },
   "outputs": [],
   "source": [
    "# PVI fcp (eq. 6 Mass & Rajan 2008)\n",
    "PVIfcp = (y2 - m * x2 - c) / pow((1+pow(m, 2)), 0.5)\n",
    "\n",
    "# Calculate PVI for all pixes (eq. 5 Mass & Rajan 2008)\n",
    "PVIallpix = (NIR_a - m * R_a - c) / pow((1+pow(m, 2)), 0.5)"
   ]
  },
  {
   "cell_type": "code",
   "execution_count": null,
   "metadata": {},
   "outputs": [],
   "source": [
    "# Test only / do not run\n",
    "mask4 = PVIallpix < 0                               # Boolean: < 0 false, else true\n",
    "PVIallpix_a = PVIallpix*mask4                       # float and 0's\n",
    "PVIallpix_a[PVIallpix*mask4 == 0]                   # float and nan\n",
    "\n",
    "mask5 = PVIallpix_a > 1                             # Boolean: > 1 false, else true\n",
    "PVIallpix_b = PVIallpix_a*mask5                     # float and 0's\n",
    "PVIallpix_b[PVIallpix_a*mask5 == 0] = 1.0           # float and nan"
   ]
  },
  {
   "cell_type": "markdown",
   "metadata": {},
   "source": [
    "### D. Estimate ground cover and create image"
   ]
  },
  {
   "cell_type": "code",
   "execution_count": null,
   "metadata": {
    "scrolled": true
   },
   "outputs": [],
   "source": [
    "# Prepare image\n",
    "indataset = gdal.Open(img_clp)\n",
    "driver = gdal.GetDriverByName(\"GTiff\")                     # Define driver for image creation\n",
    "dType = gdal.GDT_Float32\n",
    "\n",
    "projection = indataset.GetProjection()                     # Read projection\n",
    "geolocation = indataset.GetGeoTransform()                  # Read georeference"
   ]
  },
  {
   "cell_type": "code",
   "execution_count": null,
   "metadata": {
    "scrolled": true
   },
   "outputs": [],
   "source": [
    "# Calculate gc and write file\n",
    "outArray = indataset.GetRasterBand(1).ReadAsArray()\n",
    "outArray = np.divide(PVIallpix, PVIfcp)                    # GC calculation (eq. 7 Mass & Rajan 2008)\n",
    "\n",
    "img_out = 'e190328co1rfl_gc_nir_q_0995.tif'\n",
    "outdataset = driver.Create(img_out, cols, rows, 1, dType)  # Image creation\n",
    "outdataset.SetProjection(projection)                       # Assign projection\n",
    "outdataset.SetGeoTransform(geolocation)                    # Assign geolocation\n",
    "\n",
    "outdataset.GetRasterBand(1).WriteArray(outArray)           # Write gc file"
   ]
  },
  {
   "cell_type": "code",
   "execution_count": null,
   "metadata": {
    "scrolled": true
   },
   "outputs": [],
   "source": [
    "#PVIallpix.shape, outArray.shape, outArray"
   ]
  },
  {
   "cell_type": "markdown",
   "metadata": {},
   "source": [
    "### Z. Appendix"
   ]
  },
  {
   "cell_type": "code",
   "execution_count": null,
   "metadata": {
    "scrolled": true
   },
   "outputs": [],
   "source": [
    "# Assign nan\n",
    "Rnan =  R != -3.4e+38\n",
    "R[~Rnan] = np.nan\n",
    "\n",
    "NIRnan =  NIR != -3.4e+38\n",
    "NIR[~NIRnan] = np.nan\n",
    "\n",
    "# Eliminate where either in R or NIR there is nan\n",
    "mask = np.where(np.isnan(R+NIR), np.where(np.isnan(R), NIR, R), R+NIR)\n",
    "\n",
    "# Test whether R and NIR have same shape to be able to plot\n",
    "R[np.isnan(mask)].shape, NIR[np.isnan(mask)].shape"
   ]
  }
 ],
 "metadata": {
  "kernelspec": {
   "display_name": "Python 3",
   "language": "python",
   "name": "python3"
  },
  "language_info": {
   "codemirror_mode": {
    "name": "ipython",
    "version": 3
   },
   "file_extension": ".py",
   "mimetype": "text/x-python",
   "name": "python",
   "nbconvert_exporter": "python",
   "pygments_lexer": "ipython3",
   "version": "3.7.4"
  }
 },
 "nbformat": 4,
 "nbformat_minor": 2
}
