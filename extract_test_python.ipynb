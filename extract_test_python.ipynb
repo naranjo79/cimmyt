{
 "cells": [
  {
   "cell_type": "code",
   "execution_count": null,
   "metadata": {},
   "outputs": [],
   "source": [
    "from rasterstats import zonal_stats\n",
    "import os\n",
    "import csv\n",
    "import gdal\n",
    "import osr"
   ]
  },
  {
   "cell_type": "markdown",
   "metadata": {},
   "source": [
    "### 1. Import original tif files and divide by 10k"
   ]
  },
  {
   "cell_type": "code",
   "execution_count": null,
   "metadata": {},
   "outputs": [],
   "source": [
    "os.chdir('C:/Users/SNMACIAS/Documents/CIMMYT/Drone_missions/eBee/AGF/q190930for/analysis/rho_leaf/')\n",
    "# You have to divide the original *.tif file by 10k otherwise, div by zero error\n",
    "#origfile = 'IMG_190920_160935_0000_GRE_div_by_10k.TIF'"
   ]
  },
  {
   "cell_type": "code",
   "execution_count": null,
   "metadata": {},
   "outputs": [],
   "source": [
    "# Open the file - NOT WORKING SO FAR\n",
    "fid=gdal.Open(origfile, gdal.GA_ReadOnly)\n",
    "rows=fid.RasterYSize\n",
    "cols=fid.RasterXSize\n",
    "\n",
    "# Read relevant bands and store them as arrays\n",
    "refl=fid.GetRasterBand(1).ReadAsArray()\n",
    "del fid\n",
    "\n",
    "# Prepare image\n",
    "in_set = gdal.Open(origfile)\n",
    "driver = gdal.GetDriverByName(\"GTiff\")                     # Define driver for image creation\n",
    "dType = gdal.GDT_Float32\n",
    "\n",
    "epsg = 4326                                                # Read projection\n",
    "srs = osr.SpatialReference()\n",
    "srs.ImportFromEPSG(epsg)\n",
    "srs = srs.ExportToWkt()\n",
    "#projection = in_set.GetProjection()\n",
    "geolocation = in_set.GetGeoTransform()                     # Read georeference"
   ]
  },
  {
   "cell_type": "code",
   "execution_count": null,
   "metadata": {},
   "outputs": [],
   "source": [
    "# Divide by 10k and write file - NOT WORKING SO FAR\n",
    "outArray = in_set.GetRasterBand(1).ReadAsArray()\n",
    "outArray = np.divide(refl, 10000)                          # Div by 10k\n",
    "\n",
    "img_out = 'IMG_190930_172529_0003_REG_div_by_10k.tif'\n",
    "out_set = driver.Create(img_out, cols, rows, 1, dType)    # Image creation\n",
    "#out_set.SetProjection(srs)                                # Assign projection\n",
    "#out_set.SetGeoTransform(geolocation)                      # Assign geolocation\n",
    "\n",
    "#out_set.GetRasterBand(1).WriteArray(outArray)             # Write file"
   ]
  },
  {
   "cell_type": "markdown",
   "metadata": {},
   "source": [
    "### 2. Calculate zonal statistics"
   ]
  },
  {
   "cell_type": "code",
   "execution_count": null,
   "metadata": {},
   "outputs": [],
   "source": [
    "# GRE, NIR, RED, REG\n",
    "rastfile = 'IMG_190930_172529_0003_REG_cal.tif' # REG_cal.tif\n",
    "shpfile = 'REG_172529.shp'"
   ]
  },
  {
   "cell_type": "code",
   "execution_count": null,
   "metadata": {},
   "outputs": [],
   "source": [
    "stats0 = zonal_stats(shpfile, rastfile, stats=\"count min mean max median\", band=1, geojson_out=True)\n",
    "stats1 = zonal_stats(shpfile, rastfile, stats=\"count min mean max median\", band=1)"
   ]
  },
  {
   "cell_type": "markdown",
   "metadata": {},
   "source": [
    "### Calibration with panel reflectance"
   ]
  },
  {
   "cell_type": "code",
   "execution_count": null,
   "metadata": {},
   "outputs": [],
   "source": [
    "fac = 0.268/stats1[0]['mean'] # 0.178:GRE, 0.369:NIR, 0.216:RED, 0.268:REG\n",
    "fac"
   ]
  },
  {
   "cell_type": "code",
   "execution_count": null,
   "metadata": {},
   "outputs": [],
   "source": [
    "stats1[0]['mean'] # stats0[0]['properties']['mean']"
   ]
  },
  {
   "cell_type": "markdown",
   "metadata": {},
   "source": [
    "### Estimate leaf reflectance"
   ]
  },
  {
   "cell_type": "code",
   "execution_count": null,
   "metadata": {},
   "outputs": [],
   "source": [
    "for i in range(len(stats0)):\n",
    "    var = stats1[i]['mean']\n",
    "    print(var)"
   ]
  },
  {
   "cell_type": "code",
   "execution_count": null,
   "metadata": {},
   "outputs": [],
   "source": [
    "with open ('output.csv', 'w', newline=\"\") as f:\n",
    "    fieldnames = 'count','min', 'mean', 'max', 'median'\n",
    "    cw = csv.DictWriter(f, fieldnames) #  extrasaction='ignore'\n",
    "    cw.writerows(stats1)"
   ]
  },
  {
   "cell_type": "code",
   "execution_count": null,
   "metadata": {},
   "outputs": [],
   "source": []
  }
 ],
 "metadata": {
  "kernelspec": {
   "display_name": "Python 3",
   "language": "python",
   "name": "python3"
  },
  "language_info": {
   "codemirror_mode": {
    "name": "ipython",
    "version": 3
   },
   "file_extension": ".py",
   "mimetype": "text/x-python",
   "name": "python",
   "nbconvert_exporter": "python",
   "pygments_lexer": "ipython3",
   "version": "3.5.6"
  }
 },
 "nbformat": 4,
 "nbformat_minor": 2
}
