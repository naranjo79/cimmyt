{
 "cells": [
  {
   "cell_type": "code",
   "execution_count": 1,
   "metadata": {
    "scrolled": false
   },
   "outputs": [],
   "source": [
    "# import relevant modules\n",
    "import numpy as np\n",
    "import gdal\n",
    "import os\n",
    "import matplotlib.pyplot as plt\n",
    "from scipy import stats\n",
    "%matplotlib inline"
   ]
  },
  {
   "cell_type": "code",
   "execution_count": 2,
   "metadata": {
    "scrolled": false
   },
   "outputs": [],
   "source": [
    "# Assign working directory (from/to where the images will be read/write)\n",
    "os.chdir('C:/Users/SNMACIAS/Documents/CIMMYT/Drone_missions/eBee/TOL/q190912dur/analysis/')"
   ]
  },
  {
   "cell_type": "code",
   "execution_count": null,
   "metadata": {
    "scrolled": false
   },
   "outputs": [],
   "source": [
    "# Set figure size (scattered plot)\n",
    "plt.rcParams['figure.figsize'] = (7, 7)"
   ]
  },
  {
   "cell_type": "markdown",
   "metadata": {},
   "source": [
    "### A. Import and open image"
   ]
  },
  {
   "cell_type": "code",
   "execution_count": null,
   "metadata": {
    "scrolled": false
   },
   "outputs": [],
   "source": [
    "# Cut to shapefile\n",
    "img_in = 'C:/Users/SNMACIAS/Documents/CIMMYT/Drone_missions/eBee/TOL/q190912dur/output/q190912dur_transparent_reflectance_all.tif'      # Input file\n",
    "img_clp = 'test_clip_.tif'                               # Output clipped file\n",
    "gdal.Warp(img_clp, img_in, dstNodata = -10000, \\\n",
    "          cutlineDSName = 'C:/Users/SNMACIAS/Documents/CIMMYT/Drone_missions/eBee/TOL/q190912dur/analysis/test_clip.shp', \\\n",
    "          cropToCutline = True)"
   ]
  },
  {
   "cell_type": "code",
   "execution_count": null,
   "metadata": {},
   "outputs": [],
   "source": [
    "img_in = 'test_clip_veg_only_2.tif'      # Input file\n",
    "img_out = 'test_clip_veg_only_2_.tif'      # Output file\n",
    "gdal.Warp(img_clp, img_in, dstNodata = -10000)"
   ]
  },
  {
   "cell_type": "code",
   "execution_count": null,
   "metadata": {
    "scrolled": true
   },
   "outputs": [],
   "source": [
    "# use previously clipped mosaic\n",
    "img_clp = 'test_clip_.tif'"
   ]
  },
  {
   "cell_type": "code",
   "execution_count": null,
   "metadata": {
    "scrolled": true
   },
   "outputs": [],
   "source": [
    "# Use entire mosaic\n",
    "img_clp = 'C:/Users/SNMACIAS/Documents/CIMMYT/Drone_missions/eBee/TOL/q190912dur/output/q190912dur_transparent_reflectance_all.tif'"
   ]
  },
  {
   "cell_type": "code",
   "execution_count": null,
   "metadata": {
    "scrolled": false
   },
   "outputs": [],
   "source": [
    "# Open the file\n",
    "fid=gdal.Open(img_clp, gdal.GA_ReadOnly)\n",
    "rows=fid.RasterYSize\n",
    "cols=fid.RasterXSize\n",
    "\n",
    "# Read relevant bands and store them as arrays\n",
    "G=fid.GetRasterBand(1).ReadAsArray()\n",
    "R=fid.GetRasterBand(2).ReadAsArray()\n",
    "R_edge=fid.GetRasterBand(3).ReadAsArray()\n",
    "NIR=fid.GetRasterBand(4).ReadAsArray()\n",
    "del fid"
   ]
  },
  {
   "cell_type": "code",
   "execution_count": null,
   "metadata": {
    "scrolled": true
   },
   "outputs": [],
   "source": [
    "NIR.shape, R.shape"
   ]
  },
  {
   "cell_type": "markdown",
   "metadata": {},
   "source": [
    "### B. Level 1 image processing: deal with homogenization of bands"
   ]
  },
  {
   "cell_type": "code",
   "execution_count": null,
   "metadata": {},
   "outputs": [],
   "source": [
    "# Assign nan\n",
    "mask1 = R != -10000                 # Boolean: -10000 false, else true\n",
    "R_a = R*mask1                       # float and 0's\n",
    "R_a[R*mask1 == 0] = np.nan          # float and nan\n",
    "\n",
    "mask2 =  NIR != -10000              # Boolean: -10000 false, else true\n",
    "NIR_a = NIR*mask2                   # float and 0's\n",
    "NIR_a[NIR*mask2 == 0] = np.nan      # floar and nan\n",
    "\n",
    "# Eliminate where either in R or NIR there is nan\n",
    "mask3 = np.where(np.isnan(NIR_a+R_a), True, False)\n",
    "\n",
    "# Test whether R and NIR have same shape to be able to plot\n",
    "NIR_a[mask3].shape, R_a[mask3].shape"
   ]
  },
  {
   "cell_type": "code",
   "execution_count": null,
   "metadata": {},
   "outputs": [],
   "source": [
    "# Define soil line\n",
    "x1, y1 = np.nanquantile(R_a, 0.9995), np.nanquantile(NIR_a, 0.5)         # Bare bright soil (upper right)\n",
    "x0, y0 = np.nanquantile(R_a, 0.0005), np.nanquantile(NIR_a, 0.0005)      # Bare dark soil (lower left)\n",
    "\n",
    "m = (y1 - y0)/(x1 - x0)               # Set slope of soil line\n",
    "c = (-x0/(x1-x0))*(y1-y0)+y0          # Set intercept of soil line\n",
    "\n",
    "x1, y1, x0, y0, m, c"
   ]
  },
  {
   "cell_type": "code",
   "execution_count": null,
   "metadata": {
    "scrolled": false
   },
   "outputs": [],
   "source": [
    "# Scatter plot\n",
    "plt.scatter([x0, x1], [y0, y1], s=100, c='black')    # Points defining soil line\n",
    "plt.scatter(R_a, NIR_a, c='blue', alpha=0.01)        # Pairs of Red and NIR pixels\n",
    "\n",
    "plt.legend(loc=0)\n",
    "plt.xlabel('Red [reflectance]')\n",
    "plt.ylabel('NIR [reflectance]')\n",
    "#plt.xlim([0,0.5])\n",
    "#plt.ylim([0,0.8])"
   ]
  },
  {
   "cell_type": "code",
   "execution_count": null,
   "metadata": {},
   "outputs": [],
   "source": []
  },
  {
   "cell_type": "markdown",
   "metadata": {},
   "source": [
    "### C. Level 2 image processing: isolate soil pixels"
   ]
  },
  {
   "cell_type": "code",
   "execution_count": null,
   "metadata": {},
   "outputs": [],
   "source": [
    "# Isolate soil pixels\n",
    "mask4 = NIR_a < m*R_a + 7*c           # boolean: true: below soil line, false, above soil line\n",
    "NIR_b = NIR_a*mask4                   # float and 0's\n",
    "NIR_b[NIR_a*mask4 == 0] = np.nan      # float and nan\n",
    "\n",
    "R_b = R_a*mask4                       # float and 0's\n",
    "R_b[R_a*mask4 == 0] = np.nan          # float and nan"
   ]
  },
  {
   "cell_type": "code",
   "execution_count": null,
   "metadata": {},
   "outputs": [],
   "source": [
    "# Scatter plot\n",
    "plt.scatter([x0, x1], [y0, y1], s=100, c='black')    # Points defining soil line\n",
    "plt.scatter(R_b, NIR_b, c='blue', alpha=0.01)        # Pairs of Red and NIR pixels\n",
    "\n",
    "plt.legend(loc=0)\n",
    "plt.xlabel('Red_soil [reflectance]')\n",
    "plt.ylabel('NIR_soil [reflectance]')"
   ]
  },
  {
   "cell_type": "code",
   "execution_count": null,
   "metadata": {},
   "outputs": [],
   "source": []
  },
  {
   "cell_type": "markdown",
   "metadata": {},
   "source": [
    "### D. Level 3 image processing: create mask image with vegetation only"
   ]
  },
  {
   "cell_type": "code",
   "execution_count": null,
   "metadata": {
    "scrolled": true
   },
   "outputs": [],
   "source": [
    "# Prepare image\n",
    "indataset = gdal.Open(img_clp)\n",
    "driver = gdal.GetDriverByName(\"GTiff\")                     # Define driver for image creation\n",
    "dType = gdal.GDT_Float32\n",
    "\n",
    "projection = indataset.GetProjection()                     # Read projection\n",
    "geolocation = indataset.GetGeoTransform()                  # Read georeference"
   ]
  },
  {
   "cell_type": "code",
   "execution_count": null,
   "metadata": {
    "scrolled": true
   },
   "outputs": [],
   "source": [
    "# Calculate gc and write file\n",
    "outArray = indataset.GetRasterBand(1).ReadAsArray()\n",
    "outArray = mask4                                           # Every band\n",
    "\n",
    "img_out = 'veg_only_maskxx.tif'\n",
    "outdataset = driver.Create(img_out, cols, rows, 1, dType)  # Image creation\n",
    "outdataset.SetProjection(projection)                       # Assign projection\n",
    "outdataset.SetGeoTransform(geolocation)                    # Assign geolocation\n",
    "\n",
    "outdataset.GetRasterBand(1).WriteArray(outArray)           # Write gc file"
   ]
  },
  {
   "cell_type": "code",
   "execution_count": null,
   "metadata": {
    "scrolled": true
   },
   "outputs": [],
   "source": []
  },
  {
   "cell_type": "markdown",
   "metadata": {
    "scrolled": true
   },
   "source": [
    "### Appendix"
   ]
  },
  {
   "cell_type": "code",
   "execution_count": null,
   "metadata": {},
   "outputs": [],
   "source": [
    "# Assign nan\n",
    "Rnan =  R != -10000         # Boolean: -10000 false, else true\n",
    "R[~Rnan] = np.nan           # false to nan, true to float\n",
    "\n",
    "NIRnan =  NIR != -10000     # Boolean: -10000 false, else true\n",
    "NIR[~NIRnan] = np.nan       # false to nan, true to float\n",
    "\n",
    "# Eliminate where either in R or NIR there is nan\n",
    "mask = np.where(np.isnan(R+NIR), np.where(np.isnan(R), NIR, R), R+NIR)\n",
    "\n",
    "# Test whether R and NIR have same shape to be able to plot\n",
    "NIR_a[np.isnan(mask)].shape, R_a[np.isnan(mask)].shape\n",
    "\n",
    "#NIRnan2 =  NIR < y1*1.05\n",
    "#NIRsoil = np.copy(NIR)\n",
    "\n",
    "#Rnan2 =  R < x1*1.05\n",
    "#Rsoil = np.copy(R)\n",
    "\n",
    "outArray = np.divide(PVIallpix,PVIfcp)                     # GC calculation (eq. 7 Mass & Rajan 2008)\n",
    "\n",
    "# Apply final mask reflectance image\n",
    "G_soil = G*mask4                     # float and 0's\n",
    "R_soil = R*mask4                     # float and 0's\n",
    "R_edge_soil = R_edge*mask4           # float and 0's\n",
    "NIR_soil = NIR*mask4                 # float and 0's\n",
    "\n",
    "G_soil[G*mask4 == 0] = np.nan              # float and nan\n",
    "R_soil[R*mask4 == 0] = np.nan              # float and nan\n",
    "R_edge_soil[R_edge*mask4 == 0] = np.nan    # float and nan\n",
    "NIR_soil[NIR*mask4 == 0] = np.nan          # float and nan"
   ]
  }
 ],
 "metadata": {
  "kernelspec": {
   "display_name": "Python 3",
   "language": "python",
   "name": "python3"
  },
  "language_info": {
   "codemirror_mode": {
    "name": "ipython",
    "version": 3
   },
   "file_extension": ".py",
   "mimetype": "text/x-python",
   "name": "python",
   "nbconvert_exporter": "python",
   "pygments_lexer": "ipython3",
   "version": "3.7.4"
  }
 },
 "nbformat": 4,
 "nbformat_minor": 2
}
